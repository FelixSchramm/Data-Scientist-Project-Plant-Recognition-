{
 "cells": [
  {
   "cell_type": "markdown",
   "id": "e65a242d",
   "metadata": {},
   "source": []
  },
  {
   "cell_type": "markdown",
   "id": "90f502ee",
   "metadata": {},
   "source": [
    "# Data Vizualisation "
   ]
  },
  {
   "cell_type": "markdown",
   "id": "33cc18b7",
   "metadata": {},
   "source": [
    "1. Histogram of plant species distribution (Alex)\n",
    "2. Distribution of healthy vs. unhealthy samples (Alex)\n",
    "3. Overview of disease types (Felix)\n",
    "4. Distribution of image brightness (Felix)\n",
    "5. Distribution of image pixel dimensions"
   ]
  },
  {
   "cell_type": "markdown",
   "id": "d8b76208",
   "metadata": {},
   "source": [
    "### 0. Import packages and load the data"
   ]
  },
  {
   "cell_type": "code",
   "execution_count": 1,
   "id": "c9173082",
   "metadata": {},
   "outputs": [
    {
     "ename": "ModuleNotFoundError",
     "evalue": "No module named 'plotly'",
     "output_type": "error",
     "traceback": [
      "\u001b[31m---------------------------------------------------------------------------\u001b[39m",
      "\u001b[31mModuleNotFoundError\u001b[39m                       Traceback (most recent call last)",
      "\u001b[36mCell\u001b[39m\u001b[36m \u001b[39m\u001b[32mIn[1]\u001b[39m\u001b[32m, line 4\u001b[39m\n\u001b[32m      2\u001b[39m \u001b[38;5;28;01mimport\u001b[39;00m\u001b[38;5;250m \u001b[39m\u001b[34;01mmatplotlib\u001b[39;00m\u001b[34;01m.\u001b[39;00m\u001b[34;01mpyplot\u001b[39;00m\u001b[38;5;250m \u001b[39m\u001b[38;5;28;01mas\u001b[39;00m\u001b[38;5;250m \u001b[39m\u001b[34;01mplt\u001b[39;00m\n\u001b[32m      3\u001b[39m \u001b[38;5;28;01mimport\u001b[39;00m\u001b[38;5;250m \u001b[39m\u001b[34;01mseaborn\u001b[39;00m\u001b[38;5;250m \u001b[39m\u001b[38;5;28;01mas\u001b[39;00m\u001b[38;5;250m \u001b[39m\u001b[34;01msns\u001b[39;00m\n\u001b[32m----> \u001b[39m\u001b[32m4\u001b[39m \u001b[38;5;28;01mimport\u001b[39;00m\u001b[38;5;250m \u001b[39m\u001b[34;01mplotly\u001b[39;00m\u001b[34;01m.\u001b[39;00m\u001b[34;01mexpress\u001b[39;00m\u001b[38;5;250m \u001b[39m\u001b[38;5;28;01mas\u001b[39;00m\u001b[38;5;250m \u001b[39m\u001b[34;01mpx\u001b[39;00m\n",
      "\u001b[31mModuleNotFoundError\u001b[39m: No module named 'plotly'"
     ]
    }
   ],
   "source": [
    "import pandas as pd\n",
    "import matplotlib.pyplot as plt\n",
    "import seaborn as sns\n",
    "import plotly.express as px"
   ]
  },
  {
   "cell_type": "code",
   "execution_count": null,
   "id": "8addaf23",
   "metadata": {},
   "outputs": [],
   "source": [
    "df =read_xlsx(\"02_analysis/01_computed_data_sets_plant_dataset_detailed.xlsx\")"
   ]
  },
  {
   "cell_type": "markdown",
   "id": "9806f64f",
   "metadata": {},
   "source": [
    "### 1. Histogram of plant species distribution (Alex)"
   ]
  },
  {
   "cell_type": "markdown",
   "id": "7b19a27d",
   "metadata": {},
   "source": [
    "### 2. Distribution of healthy vs. unhealthy samples (Alex)"
   ]
  },
  {
   "cell_type": "markdown",
   "id": "91afa748",
   "metadata": {},
   "source": [
    "### 3. Overview of disease types (Felix)"
   ]
  },
  {
   "cell_type": "markdown",
   "id": "791b8834",
   "metadata": {},
   "source": [
    "### 4. Distribution of image brightness (Felix)"
   ]
  },
  {
   "cell_type": "markdown",
   "id": "85ca42e5",
   "metadata": {},
   "source": [
    "### 5. Distribution of image pixel dimensions"
   ]
  },
  {
   "cell_type": "code",
   "execution_count": null,
   "id": "8035126c",
   "metadata": {},
   "outputs": [],
   "source": []
  },
  {
   "cell_type": "code",
   "execution_count": null,
   "id": "6f612acf",
   "metadata": {},
   "outputs": [],
   "source": []
  }
 ],
 "metadata": {
  "kernelspec": {
   "display_name": "Python 3",
   "language": "python",
   "name": "python3"
  },
  "language_info": {
   "codemirror_mode": {
    "name": "ipython",
    "version": 3
   },
   "file_extension": ".py",
   "mimetype": "text/x-python",
   "name": "python",
   "nbconvert_exporter": "python",
   "pygments_lexer": "ipython3",
   "version": "3.13.3"
  }
 },
 "nbformat": 4,
 "nbformat_minor": 5
}
