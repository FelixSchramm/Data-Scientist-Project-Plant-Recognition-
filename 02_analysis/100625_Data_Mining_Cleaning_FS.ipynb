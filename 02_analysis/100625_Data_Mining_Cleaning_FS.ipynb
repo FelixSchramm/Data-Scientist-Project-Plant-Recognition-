{
 "cells": [
  {
   "cell_type": "markdown",
   "id": "cf8e5d76",
   "metadata": {},
   "source": [
    "# Explanatory Analysis: Data Wrangling "
   ]
  },
  {
   "cell_type": "markdown",
   "id": "91ba7216",
   "metadata": {},
   "source": [
    "### 1. Load Packages"
   ]
  },
  {
   "cell_type": "code",
   "execution_count": 49,
   "id": "e8a2211b",
   "metadata": {},
   "outputs": [],
   "source": [
    "import numpy as np\n",
    "import cv2 \n",
    "import pandas as pd\n",
    "import re\n",
    "import os\n",
    "import openpyxl\n",
    "import time\n",
    "from datetime import datetime\n",
    "from PIL import Image\n",
    "from sklearn.cluster import KMeans\n"
   ]
  },
  {
   "cell_type": "markdown",
   "id": "3f0886b3",
   "metadata": {},
   "source": [
    "### 2. Generate a Pandas Dataframe with Data from the File Name, Folder Structre with contain the following infomation\n",
    "- full_path\n",
    "- file_name\n",
    "- class\n",
    "- plant\n",
    "- disease\n",
    "- uuid\n",
    "- source_code\n",
    "- image_id\n",
    "- augmentation"
   ]
  },
  {
   "cell_type": "code",
   "execution_count": 50,
   "id": "d576678e",
   "metadata": {},
   "outputs": [],
   "source": [
    "\n",
    "# Path\n",
    "base_path = \"/Users/felix/Documents/Data Science/05_The_project_plant_recognition/Data-Scientist-Project-Plant-Recognition-/01_data/2.1.1 New Plant Diseases/New Plant Diseases Dataset(Augmented)/New Plant Diseases Dataset(Augmented)/train\"\n",
    "\n",
    "# List to hold the data\n",
    "data = []\n",
    "\n",
    "# Split file name with regex\n",
    "pattern = re.compile(r\"(?P<uuid>[a-f0-9\\-]+)___(?P<source>[A-Z_]+)\\s(?P<id>\\d+)_?(?P<aug>.*)?\\.(jpg|jpeg|png)\", re.IGNORECASE)\n",
    "\n",
    "# Run through all files in the base path\n",
    "for root, dirs, files in os.walk(base_path):\n",
    "    for file in files:\n",
    "        if file.lower().endswith(('.jpg', '.jpeg', '.png')):\n",
    "            full_path = os.path.join(root, file)\n",
    "            rel_path = os.path.relpath(full_path, base_path)\n",
    "            class_folder = rel_path.split(os.sep)[0]\n",
    "\n",
    "            # Determine plant and disease from the class folder name\n",
    "            if \"___\" in class_folder:\n",
    "                plant, disease = class_folder.split(\"___\")\n",
    "            else:\n",
    "                plant, disease = class_folder, \"unknown\"\n",
    "\n",
    "            # Analyse the file name with regex\n",
    "            match = pattern.match(file)\n",
    "            if match:\n",
    "                uuid = match.group(\"uuid\")\n",
    "                source_code = match.group(\"source\")\n",
    "                image_id = match.group(\"id\")\n",
    "                augmentation = match.group(\"aug\") or \"original\"\n",
    "            else:\n",
    "                uuid = source_code = image_id = augmentation = \"unknown\"\n",
    "\n",
    "            data.append({\n",
    "                \"file_path\": full_path,\n",
    "                \"file_name\": file,\n",
    "                \"class\": class_folder,\n",
    "                \"plant\": plant,\n",
    "                \"disease\": disease,\n",
    "                \"uuid\": uuid,\n",
    "                \"source_code\": source_code,\n",
    "                \"image_id\": image_id,\n",
    "                \"augmentation\": augmentation.lower()\n",
    "            })\n",
    "\n",
    "# Safe the data to a DataFrame\n",
    "df = pd.DataFrame(data)\n",
    "\n"
   ]
  },
  {
   "cell_type": "code",
   "execution_count": 51,
   "id": "d6fc6aba",
   "metadata": {},
   "outputs": [],
   "source": [
    "#df.head()\n",
    "#df.value_counts()\n",
    "#df.describe()\n",
    "#df.dtypes\n",
    "\n"
   ]
  },
  {
   "cell_type": "markdown",
   "id": "bafd1966",
   "metadata": {},
   "source": [
    "### 3.1 Calculation of Grayscale Mean Brightness"
   ]
  },
  {
   "cell_type": "code",
   "execution_count": null,
   "id": "55da000a",
   "metadata": {},
   "outputs": [],
   "source": [
    "def get_brightness(file_path):\n",
    "    img = cv2.imread(file_path)\n",
    "    gray = cv2.cvtColor(img, cv2.COLOR_BGR2GRAY)  # Convert to grayscale\n",
    "    return np.mean(gray)  # Average brightness (0-255)\n",
    "\n",
    "df['grayscale_brightness'] = df['file_path'].apply(get_brightness)"
   ]
  },
  {
   "cell_type": "markdown",
   "id": "85d9129d",
   "metadata": {},
   "source": [
    "### 3.2 Calculation of Perceptual Brightness (Human-Vision Weighted)\n",
    "A more human-aligned metric that weights RGB channels differently (similar to how our eyes perceive brightness):"
   ]
  },
  {
   "cell_type": "code",
   "execution_count": null,
   "id": "e243d880",
   "metadata": {},
   "outputs": [],
   "source": [
    "\n",
    "def get_perceptual_brightness(file_path):\n",
    "    \"\"\"\n",
    "    Calculate human-perceived brightness of an image (weighted RGB average).\n",
    "    Returns a value between 0 (dark) and 255 (bright).\n",
    "    \n",
    "    Args:\n",
    "        file_path (str): Path to the image file\n",
    "        \n",
    "    Returns:\n",
    "        float: Perceptual brightness value\n",
    "    \"\"\"\n",
    "    try:\n",
    "        # Read image (ensure color order is RGB)\n",
    "        img = cv2.imread(file_path)\n",
    "        if img is None:\n",
    "            raise ValueError(f\"Could not read image: {file_path}\")\n",
    "            \n",
    "        # Convert BGR to RGB (OpenCV uses BGR by default)\n",
    "        img_rgb = cv2.cvtColor(img, cv2.COLOR_BGR2RGB)\n",
    "        \n",
    "        # Calculate weighted sum (human eye sensitivity coefficients)\n",
    "        # Coefficients: 0.299*R + 0.587*G + 0.114*B\n",
    "        perceptual_brightness = np.dot(img_rgb, [0.299, 0.587, 0.114])\n",
    "        \n",
    "        return np.mean(perceptual_brightness)\n",
    "    \n",
    "    except Exception as e:\n",
    "        print(f\"Error processing {file_path}: {str(e)}\")\n",
    "        return None  # or np.nan\n",
    "\n",
    "# Apply to DataFrame\n",
    "df['perceptual_brightness'] = df['file_path'].apply(get_perceptual_brightness)"
   ]
  },
  {
   "cell_type": "markdown",
   "id": "23184223",
   "metadata": {},
   "source": [
    "### 4. Add Timestamp for Creation and Modification"
   ]
  },
  {
   "cell_type": "code",
   "execution_count": null,
   "id": "1793745a",
   "metadata": {},
   "outputs": [],
   "source": [
    "\n",
    "\n",
    "df['creation_date'] = df['file_path'].apply(lambda x: datetime.fromtimestamp(os.path.getctime(x)))\n",
    "df['modification_date'] = df['file_path'].apply(lambda x: datetime.fromtimestamp(os.path.getmtime(x)))\n",
    "# Extract Year\n",
    "df['modification_year'] = df['modification_date'].dt.year\n",
    "# Extract Year-Month (as string, e.g. \"2023-07\")\n",
    "df['modification_year_month'] = df['modification_date'].dt.strftime('%Y-%m')"
   ]
  },
  {
   "cell_type": "markdown",
   "id": "48f2e4a2",
   "metadata": {},
   "source": [
    "### 5. Add Size of the Picture"
   ]
  },
  {
   "cell_type": "code",
   "execution_count": null,
   "id": "531f8bcd",
   "metadata": {},
   "outputs": [],
   "source": [
    "def get_image_size(file_path):\n",
    "    \"\"\"Returns (width, height) for an image, handles errors gracefully.\"\"\"\n",
    "    try:\n",
    "        with Image.open(file_path) as img:\n",
    "            return img.size  # (width, height)\n",
    "    except:\n",
    "        return (None, None)  # or (np.nan, np.nan)\n",
    "\n",
    "# Add dimensions (takes ~0.1s per image)\n",
    "df[['width', 'height']] = pd.DataFrame(\n",
    "    df['file_path'].apply(get_image_size).tolist(),\n",
    "    index=df.index\n",
    ")\n",
    "\n",
    "\n",
    "df['total_pixels'] = df['width'] * df['height']\n",
    "df['megapixels'] = (df['width'] * df['height'] / 1e6).round(2)"
   ]
  },
  {
   "cell_type": "markdown",
   "id": "ef16f826",
   "metadata": {},
   "source": [
    "### 6. Add the Dominant Colors to the DataFrame"
   ]
  },
  {
   "cell_type": "code",
   "execution_count": null,
   "id": "9438385d",
   "metadata": {},
   "outputs": [],
   "source": [
    "# TBD\n",
    "    \n"
   ]
  },
  {
   "cell_type": "markdown",
   "id": "d29435e2",
   "metadata": {},
   "source": [
    "### 7. Safe the DataFrame"
   ]
  },
  {
   "cell_type": "code",
   "execution_count": 48,
   "id": "97f85d93",
   "metadata": {},
   "outputs": [
    {
     "name": "stdout",
     "output_type": "stream",
     "text": [
      "Datei gespeichert unter: /Users/felix/Documents/Data Science/05_The_project_plant_recognition/Data-Scientist-Project-Plant-Recognition-/02_analysis/01_computed_data_sets_plant_dataset_detailed.xlsx\n"
     ]
    }
   ],
   "source": [
    "# XLSX-Speicherung\n",
    "output_path = \"/Users/felix/Documents/Data Science/05_The_project_plant_recognition/Data-Scientist-Project-Plant-Recognition-/02_analysis/01_computed_data_sets_plant_dataset_detailed.xlsx\"\n",
    "df.to_excel(output_path, index=False, engine='openpyxl')\n",
    "\n",
    "print(f\"Datei gespeichert unter: {output_path}\")\n"
   ]
  }
 ],
 "metadata": {
  "kernelspec": {
   "display_name": "Python 3",
   "language": "python",
   "name": "python3"
  },
  "language_info": {
   "codemirror_mode": {
    "name": "ipython",
    "version": 3
   },
   "file_extension": ".py",
   "mimetype": "text/x-python",
   "name": "python",
   "nbconvert_exporter": "python",
   "pygments_lexer": "ipython3",
   "version": "3.13.3"
  }
 },
 "nbformat": 4,
 "nbformat_minor": 5
}
