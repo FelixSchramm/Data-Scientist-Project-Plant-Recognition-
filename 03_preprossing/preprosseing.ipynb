{
 "cells": [
  {
   "cell_type": "markdown",
   "id": "a4ee4d96",
   "metadata": {},
   "source": [
    "- load data\n",
    "- feature vectors: extract from pictures with pre trained with Neural Network MobileNetV2 or ResNet50\n",
    "- transfrom vector to 1 dimension\n",
    "- "
   ]
  }
 ],
 "metadata": {
  "language_info": {
   "name": "python"
  }
 },
 "nbformat": 4,
 "nbformat_minor": 5
}
